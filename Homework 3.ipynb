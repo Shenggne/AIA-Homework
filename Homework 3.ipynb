version https://git-lfs.github.com/spec/v1
oid sha256:5abd5a616f79571b0f11e0d7bcd3be55a44d630f7c943e1ca23c37e4749348c4
size 49610019
